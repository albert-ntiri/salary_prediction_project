{
 "cells": [
  {
   "cell_type": "markdown",
   "metadata": {},
   "source": [
    "# Salary Predictions Based on Job Descriptions"
   ]
  },
  {
   "cell_type": "code",
   "execution_count": 1,
   "metadata": {},
   "outputs": [],
   "source": [
    "#import your libraries\n",
    "import pandas as pd\n",
    "import numpy as np\n",
    "import matplotlib.pyplot as plt\n",
    "\n",
    "from sklearn import linear_model\n",
    "from sklearn.ensemble import GradientBoostingRegressor\n",
    "from sklearn import preprocessing\n",
    "from sklearn.model_selection import train_test_split, cross_val_score\n",
    "from sklearn.metrics import mean_squared_error, r2_score\n",
    "\n",
    "#your info here\n",
    "__author__ = \"Albert Ntiri\"\n",
    "__email__ = \"albert.ntiri@gmail.com\""
   ]
  },
  {
   "cell_type": "code",
   "execution_count": 2,
   "metadata": {},
   "outputs": [],
   "source": [
    "train_features = pd.read_csv('data/train_features.csv')\n",
    "train_salaries = pd.read_csv('data/train_salaries.csv')\n",
    "test_features = pd.read_csv('data/test_features.csv')\n",
    "\n",
    "training_combined = pd.merge(train_features, train_salaries, how='inner', on='jobId')"
   ]
  },
  {
   "cell_type": "markdown",
   "metadata": {},
   "source": [
    "## Define Classes"
   ]
  },
  {
   "cell_type": "code",
   "execution_count": 3,
   "metadata": {},
   "outputs": [],
   "source": [
    "class process_data():\n",
    "    def __init__(self, data):\n",
    "        self.data = data\n",
    "    \n",
    "    # Drop rows for 0-salary jobs\n",
    "    def clean_data(self):\n",
    "        self.data.drop(index = self.data[self.data.salary == 0].index, axis = 0, inplace = True)\n",
    "    \n",
    "    # Convert categorical variables to numeric based on hierarchy\n",
    "    def label_encode(self, col, new_col, map_dict):\n",
    "        self.data[new_col] = self.data[col].map(map_dict)\n",
    "    \n",
    "    # Convert non-hierarchical categorical variables to dummy variables\n",
    "    def one_hot_encode(self, col, drop_first=False):\n",
    "        self.data = pd.get_dummies(self.data, columns=[col], drop_first=drop_first)\n",
    "        \n",
    "    # drop single or list of columns\n",
    "    def drop_columns(self, col):\n",
    "        self.data.drop(col, axis=1, inplace=True)\n",
    "    \n",
    "    # Use function to convert old values in column to new values in new column\n",
    "    def transform(self, col, new_col, function):\n",
    "        self.data[new_col] = self.data[col].apply(function)\n",
    "    \n",
    "    # Create indicator value\n",
    "    def convert_to_bool(self, string):\n",
    "        if string == 'NONE':\n",
    "            return 0\n",
    "        else:\n",
    "            return 1\n",
    "    \n",
    "    # Scale numeric variables to 0-1 range\n",
    "    def normalize(self, col, new_col):\n",
    "        self.data[new_col] = preprocessing.Normalizer(norm='max').transform([self.data[col]])[0]"
   ]
  },
  {
   "cell_type": "code",
   "execution_count": 4,
   "metadata": {},
   "outputs": [],
   "source": [
    "class model():\n",
    "    def __init__(self, model_type, data, features, target):\n",
    "        self.model_type = model_type\n",
    "        self.data = data\n",
    "        self.features = features\n",
    "        self.target = target\n",
    "    \n",
    "    def build_model(self, model_name, compare_df, test_size=.2):\n",
    "        features_train, features_test, target_train, target_test = train_test_split(self.data[self.features], self.data[self.target], test_size=test_size)\n",
    "\n",
    "        model = self.model_type.fit(features_train, target_train)\n",
    "        training_r2 = model.score(features_train, target_train)\n",
    "        self.model = model\n",
    "        \n",
    "        predicted_target = model.predict(features_test)\n",
    "        test_r2 = r2_score(y_true=target_test, y_pred=predicted_target)\n",
    "        mse = mean_squared_error(y_true=target_test, y_pred=predicted_target)\n",
    "\n",
    "        compare_df.loc[model_name] = [training_r2, test_r2, mse]\n",
    "        \n",
    "        return model\n",
    "    \n",
    "    def cross_validate(self, cv, scoring='neg_mean_squared_error'):\n",
    "        neg_mse = cross_val_score(self.model, self.data[self.features], self.data[self.target],  cv=cv, scoring=scoring)\n",
    "        avg_mse = sum(neg_mse) / len(neg_mse) * -1.0\n",
    "        print(avg_mse)\n",
    "    \n",
    "    def predict(self, data):\n",
    "        predictions = self.model.predict(data)\n",
    "        return predictions"
   ]
  },
  {
   "cell_type": "markdown",
   "metadata": {},
   "source": [
    "## Part 3 - DEVELOP"
   ]
  },
  {
   "cell_type": "markdown",
   "metadata": {},
   "source": [
    "### ---- 7 Engineer features  ----"
   ]
  },
  {
   "cell_type": "code",
   "execution_count": 5,
   "metadata": {},
   "outputs": [],
   "source": [
    "training_data = process_data(training_combined)\n",
    "\n",
    "training_data.clean_data()\n",
    "\n",
    "job_levels = {\n",
    "    'JANITOR': 1,\n",
    "    'JUNIOR': 2,\n",
    "    'SENIOR': 3,\n",
    "    'MANAGER': 4,\n",
    "    'VICE_PRESIDENT': 5,\n",
    "    'CFO': 6,\n",
    "    'CTO': 6,\n",
    "    'CEO': 7\n",
    "}\n",
    "training_data.label_encode('jobType', 'jobLevel', job_levels)\n",
    "\n",
    "degree_levels = {\n",
    "    'NONE': 0,\n",
    "    'HIGH_SCHOOL': 1,\n",
    "    'BACHELORS': 2,\n",
    "    'MASTERS': 3,\n",
    "    'DOCTORAL': 4\n",
    "}\n",
    "training_data.label_encode('degree', 'degreeLevel', degree_levels)\n",
    "\n",
    "training_data.transform('major', 'majorInd', training_data.convert_to_bool)\n",
    "\n",
    "training_data.one_hot_encode('major')\n",
    "\n",
    "training_data.drop_columns('major_NONE')\n",
    "\n",
    "training_data.one_hot_encode('industry', drop_first=True)\n",
    "\n",
    "training_data.normalize('yearsExperience', 'yearsExperience_norm')\n",
    "\n",
    "training_data.normalize('milesFromMetropolis', 'milesFromMetropolis_norm')\n",
    "\n",
    "old_columns = ['jobId', 'companyId', 'jobType', 'degree', 'yearsExperience', 'milesFromMetropolis']\n",
    "training_data.drop_columns(old_columns)"
   ]
  },
  {
   "cell_type": "markdown",
   "metadata": {},
   "source": [
    "### ---- 8 Create models ----"
   ]
  },
  {
   "cell_type": "code",
   "execution_count": 6,
   "metadata": {},
   "outputs": [],
   "source": [
    "# Initialize different models\n",
    "lin_reg = linear_model.LinearRegression()\n",
    "lasso_reg = linear_model.Lasso(alpha=.01)\n",
    "ridge_reg = linear_model.Ridge(alpha=.01)\n",
    "SGD_reg = linear_model.SGDRegressor(penalty='l1', alpha=.01, max_iter=1000)\n",
    "GB_reg = GradientBoostingRegressor(n_estimators=500, max_depth=6)"
   ]
  },
  {
   "cell_type": "code",
   "execution_count": 7,
   "metadata": {},
   "outputs": [],
   "source": [
    "# Set up different features combinations as variables\n",
    "\n",
    "features1_joblevel = ['jobLevel']\n",
    "features2_degree = ['degreeLevel']\n",
    "features3_yearsexperience = ['yearsExperience_norm']\n",
    "features4_milesfrommetropolis = ['milesFromMetropolis_norm']\n",
    "features5_industries = ['industry_EDUCATION', 'industry_FINANCE', 'industry_HEALTH', 'industry_OIL', 'industry_SERVICE', 'industry_WEB']\n",
    "features6_majors = ['major_BIOLOGY', 'major_BUSINESS', 'major_CHEMISTRY', 'major_COMPSCI', 'major_ENGINEERING', 'major_LITERATURE', 'major_MATH', 'major_PHYSICS']\n",
    "features7_majorind = ['majorInd']\n",
    "features8_nomajorind = features1_joblevel + features2_degree + features3_yearsexperience + features4_milesfrommetropolis + features5_industries + features6_majors\n",
    "features9_all = features8_nomajorind + features7_majorind"
   ]
  },
  {
   "cell_type": "markdown",
   "metadata": {},
   "source": [
    "### ---- 9 Test models ----"
   ]
  },
  {
   "cell_type": "code",
   "execution_count": 8,
   "metadata": {},
   "outputs": [
    {
     "data": {
      "text/html": [
       "<div>\n",
       "<style scoped>\n",
       "    .dataframe tbody tr th:only-of-type {\n",
       "        vertical-align: middle;\n",
       "    }\n",
       "\n",
       "    .dataframe tbody tr th {\n",
       "        vertical-align: top;\n",
       "    }\n",
       "\n",
       "    .dataframe thead th {\n",
       "        text-align: right;\n",
       "    }\n",
       "</style>\n",
       "<table border=\"1\" class=\"dataframe\">\n",
       "  <thead>\n",
       "    <tr style=\"text-align: right;\">\n",
       "      <th></th>\n",
       "      <th>Training_R2</th>\n",
       "      <th>Test_R2</th>\n",
       "      <th>Mean_Squared_Error</th>\n",
       "    </tr>\n",
       "  </thead>\n",
       "  <tbody>\n",
       "    <tr>\n",
       "      <th>lr_joblevel</th>\n",
       "      <td>0.347617</td>\n",
       "      <td>0.346462</td>\n",
       "      <td>979.099320</td>\n",
       "    </tr>\n",
       "    <tr>\n",
       "      <th>lr_degree</th>\n",
       "      <td>0.147582</td>\n",
       "      <td>0.147120</td>\n",
       "      <td>1278.857145</td>\n",
       "    </tr>\n",
       "    <tr>\n",
       "      <th>lr_yearsexperience</th>\n",
       "      <td>0.140658</td>\n",
       "      <td>0.140542</td>\n",
       "      <td>1287.495753</td>\n",
       "    </tr>\n",
       "    <tr>\n",
       "      <th>lr_milesfrommetropolis</th>\n",
       "      <td>0.088004</td>\n",
       "      <td>0.091048</td>\n",
       "      <td>1367.241641</td>\n",
       "    </tr>\n",
       "    <tr>\n",
       "      <th>lr_industries</th>\n",
       "      <td>0.087952</td>\n",
       "      <td>0.088119</td>\n",
       "      <td>1371.629224</td>\n",
       "    </tr>\n",
       "    <tr>\n",
       "      <th>lr_majors</th>\n",
       "      <td>0.142999</td>\n",
       "      <td>0.144946</td>\n",
       "      <td>1283.505714</td>\n",
       "    </tr>\n",
       "    <tr>\n",
       "      <th>lr_majorind</th>\n",
       "      <td>0.137711</td>\n",
       "      <td>0.138972</td>\n",
       "      <td>1293.613368</td>\n",
       "    </tr>\n",
       "    <tr>\n",
       "      <th>lr_nomajorind</th>\n",
       "      <td>0.743014</td>\n",
       "      <td>0.743757</td>\n",
       "      <td>385.705922</td>\n",
       "    </tr>\n",
       "    <tr>\n",
       "      <th>lr_all</th>\n",
       "      <td>0.742944</td>\n",
       "      <td>0.744036</td>\n",
       "      <td>384.848716</td>\n",
       "    </tr>\n",
       "  </tbody>\n",
       "</table>\n",
       "</div>"
      ],
      "text/plain": [
       "                        Training_R2   Test_R2  Mean_Squared_Error\n",
       "lr_joblevel                0.347617  0.346462          979.099320\n",
       "lr_degree                  0.147582  0.147120         1278.857145\n",
       "lr_yearsexperience         0.140658  0.140542         1287.495753\n",
       "lr_milesfrommetropolis     0.088004  0.091048         1367.241641\n",
       "lr_industries              0.087952  0.088119         1371.629224\n",
       "lr_majors                  0.142999  0.144946         1283.505714\n",
       "lr_majorind                0.137711  0.138972         1293.613368\n",
       "lr_nomajorind              0.743014  0.743757          385.705922\n",
       "lr_all                     0.742944  0.744036          384.848716"
      ]
     },
     "execution_count": 8,
     "metadata": {},
     "output_type": "execute_result"
    }
   ],
   "source": [
    "# Set up model comparison dataframe\n",
    "feature_compare = pd.DataFrame(columns=['Training_R2', 'Test_R2', 'Mean_Squared_Error'])\n",
    "\n",
    "# Build model for each previously-defined set of features\n",
    "lreg1 = model(lin_reg, training_data.data, features1_joblevel, 'salary')\n",
    "lreg1.build_model('lr_joblevel', compare_df=feature_compare)\n",
    "\n",
    "lreg2 = model(lin_reg, training_data.data, features2_degree, 'salary')\n",
    "lreg2.build_model('lr_degree', compare_df=feature_compare)\n",
    "\n",
    "lreg3 = model(lin_reg, training_data.data, features3_yearsexperience, 'salary')\n",
    "lreg3.build_model('lr_yearsexperience', compare_df=feature_compare)\n",
    "\n",
    "lreg4 = model(lin_reg, training_data.data, features4_milesfrommetropolis, 'salary')\n",
    "lreg4.build_model('lr_milesfrommetropolis', compare_df=feature_compare)\n",
    "\n",
    "lreg5 = model(lin_reg, training_data.data, features5_industries, 'salary')\n",
    "lreg5.build_model('lr_industries', compare_df=feature_compare)\n",
    "\n",
    "lreg6 = model(lin_reg, training_data.data, features6_majors, 'salary')\n",
    "lreg6.build_model('lr_majors', compare_df=feature_compare)\n",
    "\n",
    "lreg7 = model(lin_reg, training_data.data, features7_majorind, 'salary')\n",
    "lreg7.build_model('lr_majorind', compare_df=feature_compare)\n",
    "\n",
    "lreg8 = model(lin_reg, training_data.data, features8_nomajorind, 'salary')\n",
    "lreg8.build_model('lr_nomajorind', compare_df=feature_compare)\n",
    "\n",
    "lreg9 = model(lin_reg, training_data.data, features9_all, 'salary')\n",
    "lreg9.build_model('lr_all', compare_df=feature_compare)\n",
    "\n",
    "feature_compare\n",
    "\n",
    "# Using all features yields the best results"
   ]
  },
  {
   "cell_type": "code",
   "execution_count": 9,
   "metadata": {},
   "outputs": [
    {
     "data": {
      "text/html": [
       "<div>\n",
       "<style scoped>\n",
       "    .dataframe tbody tr th:only-of-type {\n",
       "        vertical-align: middle;\n",
       "    }\n",
       "\n",
       "    .dataframe tbody tr th {\n",
       "        vertical-align: top;\n",
       "    }\n",
       "\n",
       "    .dataframe thead th {\n",
       "        text-align: right;\n",
       "    }\n",
       "</style>\n",
       "<table border=\"1\" class=\"dataframe\">\n",
       "  <thead>\n",
       "    <tr style=\"text-align: right;\">\n",
       "      <th></th>\n",
       "      <th>Training_R2</th>\n",
       "      <th>Test_R2</th>\n",
       "      <th>Mean_Squared_Error</th>\n",
       "    </tr>\n",
       "  </thead>\n",
       "  <tbody>\n",
       "    <tr>\n",
       "      <th>Linear_Regression</th>\n",
       "      <td>0.742973</td>\n",
       "      <td>0.743914</td>\n",
       "      <td>384.163568</td>\n",
       "    </tr>\n",
       "    <tr>\n",
       "      <th>Lasso_Regression</th>\n",
       "      <td>0.743566</td>\n",
       "      <td>0.741481</td>\n",
       "      <td>387.000498</td>\n",
       "    </tr>\n",
       "    <tr>\n",
       "      <th>Ridge_Regression</th>\n",
       "      <td>0.742948</td>\n",
       "      <td>0.744017</td>\n",
       "      <td>385.729297</td>\n",
       "    </tr>\n",
       "    <tr>\n",
       "      <th>Stochastic_Gradient_Descent</th>\n",
       "      <td>0.743273</td>\n",
       "      <td>0.741792</td>\n",
       "      <td>384.862332</td>\n",
       "    </tr>\n",
       "    <tr>\n",
       "      <th>Gradient_Boosting</th>\n",
       "      <td>0.768348</td>\n",
       "      <td>0.761850</td>\n",
       "      <td>356.514335</td>\n",
       "    </tr>\n",
       "  </tbody>\n",
       "</table>\n",
       "</div>"
      ],
      "text/plain": [
       "                             Training_R2   Test_R2  Mean_Squared_Error\n",
       "Linear_Regression               0.742973  0.743914          384.163568\n",
       "Lasso_Regression                0.743566  0.741481          387.000498\n",
       "Ridge_Regression                0.742948  0.744017          385.729297\n",
       "Stochastic_Gradient_Descent     0.743273  0.741792          384.862332\n",
       "Gradient_Boosting               0.768348  0.761850          356.514335"
      ]
     },
     "execution_count": 9,
     "metadata": {},
     "output_type": "execute_result"
    }
   ],
   "source": [
    "# Set up model comparison dataframe\n",
    "algorithm_compare = pd.DataFrame(columns=['Training_R2', 'Test_R2', 'Mean_Squared_Error'])\n",
    "\n",
    "# Build model for each previously-set up algorithm\n",
    "linear = model(lin_reg, training_data.data, features9_all, 'salary')\n",
    "linear.build_model('Linear_Regression', compare_df=algorithm_compare)\n",
    "\n",
    "lasso = model(lasso_reg, training_data.data, features9_all, 'salary')\n",
    "lasso.build_model('Lasso_Regression', compare_df=algorithm_compare)\n",
    "\n",
    "ridge = model(ridge_reg, training_data.data, features9_all, 'salary')\n",
    "ridge.build_model('Ridge_Regression', compare_df=algorithm_compare)\n",
    "\n",
    "sgd = model(SGD_reg, training_data.data, features9_all, 'salary')\n",
    "sgd.build_model('Stochastic_Gradient_Descent', compare_df=algorithm_compare)\n",
    "\n",
    "gb = model(GB_reg, training_data.data, features9_all, 'salary')\n",
    "gb.build_model('Gradient_Boosting', compare_df=algorithm_compare)\n",
    "\n",
    "algorithm_compare\n",
    "\n",
    "# Gradient boosting yields the best results"
   ]
  },
  {
   "cell_type": "code",
   "execution_count": 10,
   "metadata": {},
   "outputs": [
    {
     "name": "stdout",
     "output_type": "stream",
     "text": [
      "356.86695927248263\n"
     ]
    }
   ],
   "source": [
    "# Perform cross-validation on gradient boosting model to see if it significantly changes the results\n",
    "gb.cross_validate(5)"
   ]
  },
  {
   "cell_type": "markdown",
   "metadata": {},
   "source": [
    "### ---- 10 Select best model  ----"
   ]
  },
  {
   "cell_type": "markdown",
   "metadata": {},
   "source": [
    "Based on the comparisons, the model that will be used for production is gradient boosting with 500 iterations and a max depth of 6.  The R^2 is around .76 and the mean squared error is around 356.  Cross validation did not change the results much so I will leave it out."
   ]
  },
  {
   "cell_type": "markdown",
   "metadata": {},
   "source": [
    "## Part 4 - DEPLOY"
   ]
  },
  {
   "cell_type": "markdown",
   "metadata": {},
   "source": [
    "### ---- 11 Automate pipeline ----"
   ]
  },
  {
   "cell_type": "code",
   "execution_count": 12,
   "metadata": {},
   "outputs": [],
   "source": [
    "#write script that trains model on entire training set, saves model to disk,\n",
    "#and scores the \"test\" dataset"
   ]
  },
  {
   "cell_type": "code",
   "execution_count": 13,
   "metadata": {},
   "outputs": [],
   "source": [
    "# Process test data\n",
    "\n",
    "test_data = process_data(test_features)\n",
    "\n",
    "test_data.label_encode('jobType', 'jobLevel', job_levels)\n",
    "\n",
    "test_data.label_encode('degree', 'degreeLevel', degree_levels)\n",
    "\n",
    "test_data.transform('major', 'majorInd', training_data.convert_to_bool)\n",
    "\n",
    "test_data.one_hot_encode('major')\n",
    "\n",
    "test_data.drop_columns('major_NONE')\n",
    "\n",
    "test_data.one_hot_encode('industry', drop_first=True)\n",
    "\n",
    "test_data.normalize('yearsExperience', 'yearsExperience_norm')\n",
    "\n",
    "test_data.normalize('milesFromMetropolis', 'milesFromMetropolis_norm')\n",
    "\n",
    "test_data.drop_columns(old_columns)\n",
    "\n",
    "\n",
    "\n",
    "gb_final = model(GB_reg, training_data.data, features9_all, 'salary')\n",
    "\n",
    "gb_final.build_model('Production_Model', compare_df=algorithm_compare)\n",
    "\n",
    "test_salaries = gb_final.predict(test_data.data)"
   ]
  },
  {
   "cell_type": "markdown",
   "metadata": {},
   "source": [
    "### ---- 12 Deploy solution ----"
   ]
  },
  {
   "cell_type": "code",
   "execution_count": 14,
   "metadata": {},
   "outputs": [],
   "source": [
    "#save your prediction to a csv file or optionally save them as a table in a SQL database\n",
    "#additionally, you want to save a visualization and summary of your prediction and feature importances\n",
    "#these visualizations and summaries will be extremely useful to business stakeholders"
   ]
  },
  {
   "cell_type": "code",
   "execution_count": 15,
   "metadata": {},
   "outputs": [
    {
     "name": "stdout",
     "output_type": "stream",
     "text": [
      "/usr/bin/sh: 1: test_salaries: not found\r\n"
     ]
    }
   ],
   "source": [
    "!test_salaries>'data/test_salaries.csv'"
   ]
  },
  {
   "cell_type": "markdown",
   "metadata": {},
   "source": [
    "### ---- 13 Measure efficacy ----"
   ]
  },
  {
   "cell_type": "markdown",
   "metadata": {},
   "source": [
    "We'll skip this step since we don't have the outcomes for the test data"
   ]
  },
  {
   "cell_type": "code",
   "execution_count": null,
   "metadata": {},
   "outputs": [],
   "source": []
  },
  {
   "cell_type": "code",
   "execution_count": null,
   "metadata": {},
   "outputs": [],
   "source": []
  },
  {
   "cell_type": "code",
   "execution_count": null,
   "metadata": {},
   "outputs": [],
   "source": []
  },
  {
   "cell_type": "code",
   "execution_count": null,
   "metadata": {},
   "outputs": [],
   "source": []
  }
 ],
 "metadata": {
  "kernelspec": {
   "display_name": "Python 3",
   "language": "python",
   "name": "python3"
  },
  "language_info": {
   "codemirror_mode": {
    "name": "ipython",
    "version": 3
   },
   "file_extension": ".py",
   "mimetype": "text/x-python",
   "name": "python",
   "nbconvert_exporter": "python",
   "pygments_lexer": "ipython3",
   "version": "3.7.6"
  }
 },
 "nbformat": 4,
 "nbformat_minor": 2
}

{
 "cells": [
  {
   "cell_type": "markdown",
   "metadata": {},
   "source": [
    "# Salary Predictions Based on Job Descriptions"
   ]
  },
  {
   "cell_type": "code",
   "execution_count": 1,
   "metadata": {},
   "outputs": [],
   "source": [
    "# Import libraries\n",
    "import pandas as pd\n",
    "import numpy as np\n",
    "import matplotlib.pyplot as plt\n",
    "\n",
    "from sklearn import linear_model\n",
    "from sklearn.ensemble import GradientBoostingRegressor\n",
    "from sklearn import preprocessing\n",
    "from sklearn.model_selection import train_test_split, cross_val_score\n",
    "from sklearn.metrics import mean_squared_error, r2_score\n",
    "\n",
    "# Author info\n",
    "__author__ = \"Albert Ntiri\"\n",
    "__email__ = \"albert.ntiri@gmail.com\""
   ]
  },
  {
   "cell_type": "code",
   "execution_count": 2,
   "metadata": {},
   "outputs": [],
   "source": [
    "# Read data into pandas dataframes\n",
    "train_features = pd.read_csv('data/train_features.csv')\n",
    "train_salaries = pd.read_csv('data/train_salaries.csv')\n",
    "test_features = pd.read_csv('data/test_features.csv')\n",
    "\n",
    "# Combine train_features and train_salaries into 1 dataframe for the training data\n",
    "training_combined = pd.merge(train_features, train_salaries, how='inner', on='jobId')"
   ]
  },
  {
   "cell_type": "markdown",
   "metadata": {},
   "source": [
    "## Define Classes"
   ]
  },
  {
   "cell_type": "code",
   "execution_count": 3,
   "metadata": {},
   "outputs": [],
   "source": [
    "class process_data():\n",
    "    '''\n",
    "    This class is for cleaning data and preparing it for modeling.\n",
    "    \n",
    "    Attributes:\n",
    "        data (dataframe): The pandas dataframe supplied when initiating a process_data object.\n",
    "    '''\n",
    "    \n",
    "    def __init__(self, data):\n",
    "        '''This method is the constructor for the process_data class.'''\n",
    "        self.data = data\n",
    "    \n",
    "    # Drop rows for 0-salary jobs\n",
    "    def clean_data(self):\n",
    "        '''This method drops rows for 0-salary jobs.'''\n",
    "        self.data.drop(index = self.data[self.data.salary == 0].index, axis = 0, inplace = True)\n",
    "    \n",
    "    # Convert categorical variables to numeric based on hierarchy\n",
    "    def label_encode(self, col, new_col, map_dict):\n",
    "        '''This method converts categorical variables to numeric based on hierarchy, defined by the map_dict parameter.'''\n",
    "        self.data[new_col] = self.data[col].map(map_dict)\n",
    "    \n",
    "    # Convert non-hierarchical categorical variables to dummy variables\n",
    "    def one_hot_encode(self, col, drop_first=False):\n",
    "        '''This method converts non-hierarchical categorical variables to dummy variables.'''\n",
    "        self.data = pd.get_dummies(self.data, columns=[col], drop_first=drop_first)\n",
    "        \n",
    "    # Drop single or list of columns\n",
    "    def drop_columns(self, col):\n",
    "        '''This method drops a single or a list of columns.'''\n",
    "        self.data.drop(col, axis=1, inplace=True)\n",
    "    \n",
    "    # Use function to convert old values in column to new values in new column\n",
    "    def transform(self, col, new_col, function):\n",
    "        '''This method uses a function to convert the values in an existing column to new values in a new column.'''\n",
    "        self.data[new_col] = self.data[col].apply(function)\n",
    "    \n",
    "    # Create indicator value\n",
    "    def convert_to_bool(self, string):\n",
    "        '''This method creates an indicator value from a string.'''\n",
    "        if string == 'NONE':\n",
    "            return 0\n",
    "        else:\n",
    "            return 1\n",
    "    \n",
    "    # Scale numeric variables to 0-1 range\n",
    "    def normalize(self, col, new_col):\n",
    "        '''This method scales numeric variables to 0-1 range.'''\n",
    "        self.data[new_col] = preprocessing.Normalizer(norm='max').transform([self.data[col]])[0]"
   ]
  },
  {
   "cell_type": "code",
   "execution_count": 4,
   "metadata": {},
   "outputs": [],
   "source": [
    "class model():\n",
    "    '''\n",
    "    This class is for building a model, training it, and using it to make predictions.\n",
    "    \n",
    "    Attributes:\n",
    "        model_type: The type of model used to make predictions.  This is provided when instantiating the object.\n",
    "        data (dataframe): The pandas dataframe used to train the model and use it for predictions.\n",
    "        features (list): The variables used by the model to make predictions.\n",
    "        target: The value the model aims to predict.\n",
    "        model: The model after it has been fitted to the training data.\n",
    "        cv_score: The mean squared error when using cross validation on the production model.\n",
    "    '''\n",
    "    \n",
    "    def __init__(self, model_type, data, features, target):\n",
    "        '''This method is the constructor for the model class.'''\n",
    "        self.model_type = model_type\n",
    "        self.data = data\n",
    "        self.features = features\n",
    "        self.target = target\n",
    "        self.cv_score = 0\n",
    "    \n",
    "    def build_model(self, model_name, compare_df, test_size=.2):\n",
    "        '''This method splits the dataframe into training and test sets, trains the model on the training data, \n",
    "        makes predictions on the test set, and saves metrics in the compare_df dataframe.'''\n",
    "        \n",
    "        # Split data set into training and test sets based on the test_size parameter\n",
    "        features_train, features_test, target_train, target_test = train_test_split(self.data[self.features], self.data[self.target], test_size=test_size)\n",
    "        \n",
    "        # Fit the model to the training data and save the score as a variable\n",
    "        model = self.model_type.fit(features_train, target_train)\n",
    "        training_r2 = model.score(features_train, target_train)\n",
    "        self.model = model\n",
    "        \n",
    "        # Make predictions on the test set and save the R^2 and MSE scores as variables\n",
    "        predicted_target = model.predict(features_test)\n",
    "        test_r2 = r2_score(y_true=target_test, y_pred=predicted_target)\n",
    "        mse = mean_squared_error(y_true=target_test, y_pred=predicted_target)\n",
    "        \n",
    "        # Add the 3 scores to the compare_df (given as an argument)\n",
    "        compare_df.loc[model_name] = [training_r2, test_r2, mse]\n",
    "        \n",
    "        return model\n",
    "    \n",
    "    # Run cross validation on model\n",
    "    def cross_validate(self, cv, scoring='neg_mean_squared_error'):\n",
    "        '''This method runs cross validation on the dataset.'''\n",
    "        neg_mse = cross_val_score(self.model, self.data[self.features], self.data[self.target],  cv=cv, scoring=scoring)\n",
    "        avg_mse = sum(neg_mse) / len(neg_mse) * -1.0\n",
    "        print(avg_mse)\n",
    "        self.cv_score = avg_mse\n",
    "    \n",
    "    # Make predictions on given data set\n",
    "    def predict(self, data):\n",
    "        '''This method makes predictions on the given dataset.'''\n",
    "        predictions = self.model.predict(data)\n",
    "        return predictions"
   ]
  },
  {
   "cell_type": "code",
   "execution_count": 5,
   "metadata": {},
   "outputs": [],
   "source": [
    "class compare():\n",
    "    '''\n",
    "    This class is for comparing the results of different models.\n",
    "    \n",
    "    Attributes:\n",
    "        data (dataframe): The pandas dataframe supplied when initiating a compare object.\n",
    "    '''\n",
    "    \n",
    "    def __init__(self, df):\n",
    "        '''This method is the constructor for the compare class.'''\n",
    "        self.data = df\n",
    "    \n",
    "    # Create a bar graph of given column of dataframe and save it as a jpg file\n",
    "    def graph_results(self, col, name):\n",
    "        '''This method creates a bar graph of a given column of the dataframe and saves it as a jpg file.'''\n",
    "        metric_compare = self.data[col].sort_values()\n",
    "        graph_title = col.replace('_',' ')\n",
    "        file_name = 'charts/model_comparison_{}.jpg'.format(name)\n",
    "        \n",
    "        fig, ax = plt.subplots(figsize=(7,4))\n",
    "        fig.subplots_adjust(left=.4)\n",
    "        ax.barh(metric_compare.index, metric_compare)\n",
    "        \n",
    "        ax.set_title(graph_title)\n",
    "        ax.spines['top'].set_visible(False)\n",
    "        ax.spines['right'].set_visible(False)\n",
    "        plt.savefig(file_name)"
   ]
  },
  {
   "cell_type": "markdown",
   "metadata": {},
   "source": [
    "## Part 3 - DEVELOP"
   ]
  },
  {
   "cell_type": "markdown",
   "metadata": {},
   "source": [
    "### ---- 7 Engineer features  ----"
   ]
  },
  {
   "cell_type": "code",
   "execution_count": 6,
   "metadata": {},
   "outputs": [],
   "source": [
    "# Instantiate an object for the process_data class (defined above) for the training data\n",
    "training_data = process_data(training_combined)\n",
    "\n",
    "# Remove 0-salary jobs from the training data\n",
    "training_data.clean_data()\n",
    "\n",
    "# Use the following dictionary to convert the jobType column into a new numeric feature (ranked by average salary)\n",
    "# CFO and CTO have the same numeric value because their average salaries in the training data are very similar\n",
    "job_levels = {\n",
    "    'JANITOR': 1,\n",
    "    'JUNIOR': 2,\n",
    "    'SENIOR': 3,\n",
    "    'MANAGER': 4,\n",
    "    'VICE_PRESIDENT': 5,\n",
    "    'CFO': 6,\n",
    "    'CTO': 6,\n",
    "    'CEO': 7\n",
    "}\n",
    "training_data.label_encode('jobType', 'jobLevel', job_levels)\n",
    "\n",
    "# Use the following dictionary to convert the degree column into a new numeric feature (ranked by average salary)\n",
    "degree_levels = {\n",
    "    'NONE': 0,\n",
    "    'HIGH_SCHOOL': 1,\n",
    "    'BACHELORS': 2,\n",
    "    'MASTERS': 3,\n",
    "    'DOCTORAL': 4\n",
    "}\n",
    "training_data.label_encode('degree', 'degreeLevel', degree_levels)\n",
    "\n",
    "# Create a new feature called majorInd showing whether there is a major\n",
    "training_data.transform('major', 'majorInd', training_data.convert_to_bool)\n",
    "\n",
    "# Create dummy variables out of the unique values of the major column\n",
    "training_data.one_hot_encode('major')\n",
    "\n",
    "# Remove the none value for major to use as a control group\n",
    "training_data.drop_columns('major_NONE')\n",
    "\n",
    "# Create dummy variables out of the unique values of the industry column, using the first value as a control group\n",
    "training_data.one_hot_encode('industry', drop_first=True)\n",
    "\n",
    "# Scale yearsExperience column from 0 - 1 to prevent unbalanced effects on salary\n",
    "training_data.normalize('yearsExperience', 'yearsExperience_norm')\n",
    "\n",
    "# Scale milesFromMetropolis column from 0 - 1 to prevent unbalanced effects on salary\n",
    "training_data.normalize('milesFromMetropolis', 'milesFromMetropolis_norm')\n",
    "\n",
    "# Remove all the original columns that will not be used for modeling\n",
    "old_columns = ['jobId', 'companyId', 'jobType', 'degree', 'yearsExperience', 'milesFromMetropolis']\n",
    "training_data.drop_columns(old_columns)"
   ]
  },
  {
   "cell_type": "markdown",
   "metadata": {},
   "source": [
    "### ---- 8 Create models ----"
   ]
  },
  {
   "cell_type": "code",
   "execution_count": 7,
   "metadata": {},
   "outputs": [],
   "source": [
    "# Initialize different models\n",
    "lin_reg = linear_model.LinearRegression()\n",
    "lasso_reg = linear_model.Lasso(alpha=.01)\n",
    "ridge_reg = linear_model.Ridge(alpha=.01)\n",
    "SGD_reg = linear_model.SGDRegressor(penalty='l1', alpha=.01, max_iter=1000)\n",
    "GB_reg = GradientBoostingRegressor(n_estimators=500, max_depth=6)"
   ]
  },
  {
   "cell_type": "code",
   "execution_count": 8,
   "metadata": {},
   "outputs": [],
   "source": [
    "# Set up different features combinations as variables\n",
    "\n",
    "features1_joblevel = ['jobLevel']\n",
    "features2_degree = ['degreeLevel']\n",
    "features3_yearsexperience = ['yearsExperience_norm']\n",
    "features4_milesfrommetropolis = ['milesFromMetropolis_norm']\n",
    "features5_industries = ['industry_EDUCATION', 'industry_FINANCE', 'industry_HEALTH', 'industry_OIL', 'industry_SERVICE', 'industry_WEB']\n",
    "features6_majors = ['major_BIOLOGY', 'major_BUSINESS', 'major_CHEMISTRY', 'major_COMPSCI', 'major_ENGINEERING', 'major_LITERATURE', 'major_MATH', 'major_PHYSICS']\n",
    "features7_majorind = ['majorInd']\n",
    "features8_nomajorind = features1_joblevel + features2_degree + features3_yearsexperience + features4_milesfrommetropolis + features5_industries + features6_majors\n",
    "features9_all = features8_nomajorind + features7_majorind"
   ]
  },
  {
   "cell_type": "markdown",
   "metadata": {},
   "source": [
    "### ---- 9 Test models ----"
   ]
  },
  {
   "cell_type": "code",
   "execution_count": 9,
   "metadata": {},
   "outputs": [
    {
     "data": {
      "text/html": [
       "<div>\n",
       "<style scoped>\n",
       "    .dataframe tbody tr th:only-of-type {\n",
       "        vertical-align: middle;\n",
       "    }\n",
       "\n",
       "    .dataframe tbody tr th {\n",
       "        vertical-align: top;\n",
       "    }\n",
       "\n",
       "    .dataframe thead th {\n",
       "        text-align: right;\n",
       "    }\n",
       "</style>\n",
       "<table border=\"1\" class=\"dataframe\">\n",
       "  <thead>\n",
       "    <tr style=\"text-align: right;\">\n",
       "      <th></th>\n",
       "      <th>Training_R2</th>\n",
       "      <th>Test_R2</th>\n",
       "      <th>Mean_Squared_Error</th>\n",
       "    </tr>\n",
       "  </thead>\n",
       "  <tbody>\n",
       "    <tr>\n",
       "      <th>lr_joblevel</th>\n",
       "      <td>0.347260</td>\n",
       "      <td>0.347898</td>\n",
       "      <td>977.712128</td>\n",
       "    </tr>\n",
       "    <tr>\n",
       "      <th>lr_degree</th>\n",
       "      <td>0.148114</td>\n",
       "      <td>0.144991</td>\n",
       "      <td>1283.297490</td>\n",
       "    </tr>\n",
       "    <tr>\n",
       "      <th>lr_yearsexperience</th>\n",
       "      <td>0.140166</td>\n",
       "      <td>0.142513</td>\n",
       "      <td>1279.545693</td>\n",
       "    </tr>\n",
       "    <tr>\n",
       "      <th>lr_milesfrommetropolis</th>\n",
       "      <td>0.088700</td>\n",
       "      <td>0.088280</td>\n",
       "      <td>1367.559377</td>\n",
       "    </tr>\n",
       "    <tr>\n",
       "      <th>lr_industries</th>\n",
       "      <td>0.088135</td>\n",
       "      <td>0.087387</td>\n",
       "      <td>1360.684685</td>\n",
       "    </tr>\n",
       "    <tr>\n",
       "      <th>lr_majors</th>\n",
       "      <td>0.143305</td>\n",
       "      <td>0.143741</td>\n",
       "      <td>1286.528773</td>\n",
       "    </tr>\n",
       "    <tr>\n",
       "      <th>lr_majorind</th>\n",
       "      <td>0.137797</td>\n",
       "      <td>0.138630</td>\n",
       "      <td>1289.448040</td>\n",
       "    </tr>\n",
       "    <tr>\n",
       "      <th>lr_nomajorind</th>\n",
       "      <td>0.743456</td>\n",
       "      <td>0.741987</td>\n",
       "      <td>386.386463</td>\n",
       "    </tr>\n",
       "    <tr>\n",
       "      <th>lr_all</th>\n",
       "      <td>0.743016</td>\n",
       "      <td>0.743743</td>\n",
       "      <td>385.533516</td>\n",
       "    </tr>\n",
       "  </tbody>\n",
       "</table>\n",
       "</div>"
      ],
      "text/plain": [
       "                        Training_R2   Test_R2  Mean_Squared_Error\n",
       "lr_joblevel                0.347260  0.347898          977.712128\n",
       "lr_degree                  0.148114  0.144991         1283.297490\n",
       "lr_yearsexperience         0.140166  0.142513         1279.545693\n",
       "lr_milesfrommetropolis     0.088700  0.088280         1367.559377\n",
       "lr_industries              0.088135  0.087387         1360.684685\n",
       "lr_majors                  0.143305  0.143741         1286.528773\n",
       "lr_majorind                0.137797  0.138630         1289.448040\n",
       "lr_nomajorind              0.743456  0.741987          386.386463\n",
       "lr_all                     0.743016  0.743743          385.533516"
      ]
     },
     "execution_count": 9,
     "metadata": {},
     "output_type": "execute_result"
    }
   ],
   "source": [
    "# Set up model comparison dataframe\n",
    "feature_compare = pd.DataFrame(columns=['Training_R2', 'Test_R2', 'Mean_Squared_Error'])\n",
    "\n",
    "# Build model for each previously-defined set of features\n",
    "lreg1 = model(lin_reg, training_data.data, features1_joblevel, 'salary')\n",
    "lreg1.build_model('lr_joblevel', compare_df=feature_compare)\n",
    "\n",
    "lreg2 = model(lin_reg, training_data.data, features2_degree, 'salary')\n",
    "lreg2.build_model('lr_degree', compare_df=feature_compare)\n",
    "\n",
    "lreg3 = model(lin_reg, training_data.data, features3_yearsexperience, 'salary')\n",
    "lreg3.build_model('lr_yearsexperience', compare_df=feature_compare)\n",
    "\n",
    "lreg4 = model(lin_reg, training_data.data, features4_milesfrommetropolis, 'salary')\n",
    "lreg4.build_model('lr_milesfrommetropolis', compare_df=feature_compare)\n",
    "\n",
    "lreg5 = model(lin_reg, training_data.data, features5_industries, 'salary')\n",
    "lreg5.build_model('lr_industries', compare_df=feature_compare)\n",
    "\n",
    "lreg6 = model(lin_reg, training_data.data, features6_majors, 'salary')\n",
    "lreg6.build_model('lr_majors', compare_df=feature_compare)\n",
    "\n",
    "lreg7 = model(lin_reg, training_data.data, features7_majorind, 'salary')\n",
    "lreg7.build_model('lr_majorind', compare_df=feature_compare)\n",
    "\n",
    "lreg8 = model(lin_reg, training_data.data, features8_nomajorind, 'salary')\n",
    "lreg8.build_model('lr_nomajorind', compare_df=feature_compare)\n",
    "\n",
    "lreg9 = model(lin_reg, training_data.data, features9_all, 'salary')\n",
    "lreg9.build_model('lr_all', compare_df=feature_compare)\n",
    "\n",
    "feature_compare\n",
    "\n",
    "# Using all features yields the best results"
   ]
  },
  {
   "cell_type": "code",
   "execution_count": 10,
   "metadata": {},
   "outputs": [
    {
     "data": {
      "text/html": [
       "<div>\n",
       "<style scoped>\n",
       "    .dataframe tbody tr th:only-of-type {\n",
       "        vertical-align: middle;\n",
       "    }\n",
       "\n",
       "    .dataframe tbody tr th {\n",
       "        vertical-align: top;\n",
       "    }\n",
       "\n",
       "    .dataframe thead th {\n",
       "        text-align: right;\n",
       "    }\n",
       "</style>\n",
       "<table border=\"1\" class=\"dataframe\">\n",
       "  <thead>\n",
       "    <tr style=\"text-align: right;\">\n",
       "      <th></th>\n",
       "      <th>Training_R2</th>\n",
       "      <th>Test_R2</th>\n",
       "      <th>Mean_Squared_Error</th>\n",
       "    </tr>\n",
       "  </thead>\n",
       "  <tbody>\n",
       "    <tr>\n",
       "      <th>Linear_Regression</th>\n",
       "      <td>0.743215</td>\n",
       "      <td>0.742954</td>\n",
       "      <td>385.317162</td>\n",
       "    </tr>\n",
       "    <tr>\n",
       "      <th>Lasso_Regression</th>\n",
       "      <td>0.742893</td>\n",
       "      <td>0.744165</td>\n",
       "      <td>384.839771</td>\n",
       "    </tr>\n",
       "    <tr>\n",
       "      <th>Ridge_Regression</th>\n",
       "      <td>0.743277</td>\n",
       "      <td>0.742688</td>\n",
       "      <td>384.779380</td>\n",
       "    </tr>\n",
       "    <tr>\n",
       "      <th>Stochastic_Gradient_Descent</th>\n",
       "      <td>0.742635</td>\n",
       "      <td>0.742593</td>\n",
       "      <td>385.885244</td>\n",
       "    </tr>\n",
       "    <tr>\n",
       "      <th>Gradient_Boosting</th>\n",
       "      <td>0.768184</td>\n",
       "      <td>0.762337</td>\n",
       "      <td>357.263905</td>\n",
       "    </tr>\n",
       "  </tbody>\n",
       "</table>\n",
       "</div>"
      ],
      "text/plain": [
       "                             Training_R2   Test_R2  Mean_Squared_Error\n",
       "Linear_Regression               0.743215  0.742954          385.317162\n",
       "Lasso_Regression                0.742893  0.744165          384.839771\n",
       "Ridge_Regression                0.743277  0.742688          384.779380\n",
       "Stochastic_Gradient_Descent     0.742635  0.742593          385.885244\n",
       "Gradient_Boosting               0.768184  0.762337          357.263905"
      ]
     },
     "execution_count": 10,
     "metadata": {},
     "output_type": "execute_result"
    }
   ],
   "source": [
    "# Set up model comparison dataframe\n",
    "algorithm_compare = pd.DataFrame(columns=['Training_R2', 'Test_R2', 'Mean_Squared_Error'])\n",
    "\n",
    "# Build model for each previously-set up algorithm\n",
    "linear = model(lin_reg, training_data.data, features9_all, 'salary')\n",
    "linear.build_model('Linear_Regression', compare_df=algorithm_compare)\n",
    "\n",
    "lasso = model(lasso_reg, training_data.data, features9_all, 'salary')\n",
    "lasso.build_model('Lasso_Regression', compare_df=algorithm_compare)\n",
    "\n",
    "ridge = model(ridge_reg, training_data.data, features9_all, 'salary')\n",
    "ridge.build_model('Ridge_Regression', compare_df=algorithm_compare)\n",
    "\n",
    "sgd = model(SGD_reg, training_data.data, features9_all, 'salary')\n",
    "sgd.build_model('Stochastic_Gradient_Descent', compare_df=algorithm_compare)\n",
    "\n",
    "gb = model(GB_reg, training_data.data, features9_all, 'salary')\n",
    "gb.build_model('Gradient_Boosting', compare_df=algorithm_compare)\n",
    "\n",
    "algorithm_compare\n",
    "\n",
    "# Gradient boosting yields the best results"
   ]
  },
  {
   "cell_type": "code",
   "execution_count": 11,
   "metadata": {},
   "outputs": [
    {
     "name": "stdout",
     "output_type": "stream",
     "text": [
      "357.09131637632635\n"
     ]
    }
   ],
   "source": [
    "# Perform cross-validation on gradient boosting model to see if it significantly changes the results\n",
    "cv3_score = gb.cross_validate(3)"
   ]
  },
  {
   "cell_type": "markdown",
   "metadata": {},
   "source": [
    "### ---- 10 Select best model  ----"
   ]
  },
  {
   "cell_type": "markdown",
   "metadata": {},
   "source": [
    "Based on the comparisons, the model that will be used for production is gradient boosting with 500 iterations and a max depth of 6.  The R^2 is around .76 and the mean squared error is around 356.  Cross validation did not change the results much but significantly slowed down performance so I will leave it out."
   ]
  },
  {
   "cell_type": "code",
   "execution_count": 12,
   "metadata": {},
   "outputs": [
    {
     "data": {
      "image/png": "[encoded data removed]",
      "text/plain": [
       "<Figure size 504x288 with 1 Axes>"
      ]
     },
     "metadata": {
      "needs_background": "light"
     },
     "output_type": "display_data"
    }
   ],
   "source": [
    "# Graph mean squared errors to compare results for different feature combinations\n",
    "\n",
    "feature_comp = compare(feature_compare)\n",
    "feature_comp.graph_results('Mean_Squared_Error', 'features')"
   ]
  },
  {
   "cell_type": "code",
   "execution_count": 13,
   "metadata": {},
   "outputs": [
    {
     "data": {
      "image/png": "[encoded data removed]",
      "text/plain": [
       "<Figure size 504x288 with 1 Axes>"
      ]
     },
     "metadata": {
      "needs_background": "light"
     },
     "output_type": "display_data"
    }
   ],
   "source": [
    "# Graph mean squared errors to compare results for different algorithms\n",
    "\n",
    "algorithm_comp = compare(algorithm_compare)\n",
    "algorithm_comp.graph_results('Mean_Squared_Error', 'algorithms')"
   ]
  },
  {
   "cell_type": "code",
   "execution_count": 14,
   "metadata": {},
   "outputs": [
    {
     "data": {
      "image/png": "[encoded data removed]",
      "text/plain": [
       "<Figure size 432x288 with 1 Axes>"
      ]
     },
     "metadata": {
      "needs_background": "light"
     },
     "output_type": "display_data"
    }
   ],
   "source": [
    "gb_score = algorithm_compare.loc['Gradient_Boosting', 'Mean_Squared_Error']\n",
    "cv_compare = pd.DataFrame(data=[gb_score,gb.cv_score], index=['Gradient_Boosting','Gradient_Boosting_with_CV'], columns=['Mean_Squared_Error'])\n",
    "cv_compare.plot.bar(rot=0, legend=False, title='Gradient Boosting and Cross Validation', ylim=(0,400))\n",
    "\n",
    "plt.savefig('charts/cv_comparison.jpg')"
   ]
  },
  {
   "cell_type": "markdown",
   "metadata": {},
   "source": [
    "## Part 4 - DEPLOY"
   ]
  },
  {
   "cell_type": "markdown",
   "metadata": {},
   "source": [
    "### ---- 11 Automate pipeline ----"
   ]
  },
  {
   "cell_type": "code",
   "execution_count": 15,
   "metadata": {},
   "outputs": [],
   "source": [
    "# Process test data\n",
    "\n",
    "# Instantiate an object for the process_data class (defined above) for the test data\n",
    "test_data = process_data(test_features)\n",
    "\n",
    "\n",
    "# Engineer the features for the test data using the same steps as for the training data (see above)\n",
    "test_data.label_encode('jobType', 'jobLevel', job_levels)\n",
    "\n",
    "test_data.label_encode('degree', 'degreeLevel', degree_levels)\n",
    "\n",
    "test_data.transform('major', 'majorInd', training_data.convert_to_bool)\n",
    "\n",
    "test_data.one_hot_encode('major')\n",
    "\n",
    "test_data.drop_columns('major_NONE')\n",
    "\n",
    "test_data.one_hot_encode('industry', drop_first=True)\n",
    "\n",
    "test_data.normalize('yearsExperience', 'yearsExperience_norm')\n",
    "\n",
    "test_data.normalize('milesFromMetropolis', 'milesFromMetropolis_norm')\n",
    "\n",
    "test_data.drop_columns(old_columns)\n",
    "\n",
    "\n",
    "# Initialize the production model, fit it to the training data, and make predictions on the test data\n",
    "gb_final = model(GB_reg, training_data.data, features9_all, 'salary')\n",
    "\n",
    "prod_results = pd.DataFrame(columns=['Training_R2', 'Test_R2', 'Mean_Squared_Error'])\n",
    "gb_final.build_model('Production_Model', compare_df=prod_results)\n",
    "\n",
    "test_salaries = gb_final.predict(test_data.data)"
   ]
  },
  {
   "cell_type": "markdown",
   "metadata": {},
   "source": [
    "### ---- 12 Deploy solution ----"
   ]
  },
  {
   "cell_type": "code",
   "execution_count": 16,
   "metadata": {},
   "outputs": [],
   "source": [
    "# Save predictions to file\n",
    "\n",
    "pd.DataFrame(test_salaries).to_csv('data/test_salaries.csv')"
   ]
  }
 ],
 "metadata": {
  "kernelspec": {
   "display_name": "Python 3",
   "language": "python",
   "name": "python3"
  },
  "language_info": {
   "codemirror_mode": {
    "name": "ipython",
    "version": 3
   },
   "file_extension": ".py",
   "mimetype": "text/x-python",
   "name": "python",
   "nbconvert_exporter": "python",
   "pygments_lexer": "ipython3",
   "version": "3.7.6"
  }
 },
 "nbformat": 4,
 "nbformat_minor": 2
}
